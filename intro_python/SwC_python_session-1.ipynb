{
 "cells": [
  {
   "cell_type": "code",
   "execution_count": null,
   "metadata": {
    "collapsed": true
   },
   "outputs": [],
   "source": [
    "%matplotlib inline"
   ]
  },
  {
   "cell_type": "markdown",
   "metadata": {},
   "source": [
    "# Programming in Python"
   ]
  },
  {
   "cell_type": "markdown",
   "metadata": {},
   "source": [
    "## Session 1"
   ]
  },
  {
   "cell_type": "markdown",
   "metadata": {},
   "source": [
    "### Aim of the Session\n",
    "Learn/review the basics\n",
    "- what is ...\n",
    "- how to ..."
   ]
  },
  {
   "cell_type": "markdown",
   "metadata": {},
   "source": [
    "### 'Hello World!'"
   ]
  },
  {
   "cell_type": "code",
   "execution_count": null,
   "metadata": {
    "collapsed": true
   },
   "outputs": [],
   "source": [
    "# the culturally-expected introductory statement\n",
    "print('Hello World!')"
   ]
  },
  {
   "cell_type": "code",
   "execution_count": null,
   "metadata": {
    "collapsed": false
   },
   "outputs": [],
   "source": [
    "# an example of what you can achieve with Python in just a few lines\n",
    "import pandas\n",
    "data = pandas.read_csv('../sci_python/iris_data.csv')\n",
    "data.plot('Petal.Length', 'Sepal.Length', kind='scatter')"
   ]
  },
  {
   "cell_type": "markdown",
   "metadata": {},
   "source": [
    "### Literals"
   ]
  },
  {
   "cell_type": "markdown",
   "metadata": {},
   "source": [
    "Values of a _type_, presented literally"
   ]
  },
  {
   "cell_type": "code",
   "execution_count": null,
   "metadata": {
    "collapsed": false
   },
   "outputs": [],
   "source": [
    "# example        name       type designation\n",
    "42             # integer    int\n",
    "2.016          # float      float*\n",
    "\"Homo sapiens\" # string     str"
   ]
  },
  {
   "cell_type": "markdown",
   "metadata": {},
   "source": [
    "- int: whole numbers e.g. 1, 1000, 6000000000\n",
    "- float: 'floating point' non-whole numbers e.g. 1.9, 30.01, 10e3, 1e-3\n",
    "- string: ordered sequence of characters, enclosed in quotation marks (single, double, _triple_)"
   ]
  },
  {
   "cell_type": "code",
   "execution_count": null,
   "metadata": {
    "collapsed": false
   },
   "outputs": [],
   "source": [
    "# type conversions\n",
    "int('13')\n",
    "float(13)\n",
    "str(13.0)\n",
    "int(13.4)\n",
    "int(13.99)\n",
    "int(13.999999999999999999999999999) # be careful!"
   ]
  },
  {
   "cell_type": "markdown",
   "metadata": {},
   "source": [
    "#### Aside - Comments\n",
    "\n",
    "Comments are preceded by a **#**, and are completely ignored by the python interpreter. \n",
    "Comments can be on their own line or after a line of code.\n",
    "\n",
    "Comments are an incredibly useful way to keep track of what you are doing in\n",
    "your code. Use comments to document what you do as much as possible, it will\n",
    "pay off in the long run.\n"
   ]
  },
  {
   "cell_type": "code",
   "execution_count": null,
   "metadata": {
    "collapsed": true
   },
   "outputs": [],
   "source": [
    "# this is a comment\n",
    "print('this line is annotated with a comment') # this is also a comment"
   ]
  },
  {
   "cell_type": "markdown",
   "metadata": {},
   "source": [
    "### Exercises 1"
   ]
  },
  {
   "cell_type": "code",
   "execution_count": null,
   "metadata": {
    "collapsed": true
   },
   "outputs": [],
   "source": [
    "# print some strings\n"
   ]
  },
  {
   "cell_type": "code",
   "execution_count": null,
   "metadata": {
    "collapsed": true
   },
   "outputs": [],
   "source": [
    "# print some numbers (ints or floats)\n"
   ]
  },
  {
   "cell_type": "code",
   "execution_count": null,
   "metadata": {
    "collapsed": true
   },
   "outputs": [],
   "source": [
    "# print multiple values of different types all at once\n",
    "#   (hints: use comma to separate values with a space, or + to join strings)\n",
    "print('one', 2, 3.00)"
   ]
  },
  {
   "cell_type": "code",
   "execution_count": null,
   "metadata": {
    "collapsed": false
   },
   "outputs": [],
   "source": [
    "# print a string containing quote marks\n",
    "print(\"Python doesn't care if you use single- or double-quotes (' ') or (\\\" \\\") for your strings, just don't use a mixture!\")"
   ]
  },
  {
   "cell_type": "code",
   "execution_count": null,
   "metadata": {
    "collapsed": true
   },
   "outputs": [],
   "source": [
    "'''this is a multi-line string,\n",
    "enclosed in triple-quotes. It\n",
    "works because the triple quotes\n",
    "tell the Python interpreter to \n",
    "include the newline characters\n",
    "as part of the string and not as\n",
    "an indication of the end of the\n",
    "statement'''"
   ]
  },
  {
   "cell_type": "markdown",
   "metadata": {},
   "source": [
    "### Variables"
   ]
  },
  {
   "cell_type": "markdown",
   "metadata": {},
   "source": [
    "Store values (information) in memory, and (re-)use them. We give variables names (identifiers) so that we have a means of referring to the information on demand."
   ]
  },
  {
   "cell_type": "code",
   "execution_count": null,
   "metadata": {
    "collapsed": true
   },
   "outputs": [],
   "source": [
    "# variable assignment is done with '='\n",
    "x = 12\n",
    "y = 'cat'"
   ]
  },
  {
   "cell_type": "markdown",
   "metadata": {},
   "source": [
    "#### Variable naming\n",
    "Rules:\n",
    "\n",
    "- identifier lookup is case-sensitive\n",
    "  - `myname` & `MyName` are different\n",
    "- must be unique in your working environment\n",
    "  - existing variable will be __over-written without warning__\n",
    "- cannot start with a number, or any special symbol (e.g. $, %, @, -, etc...) except for \"_\" (underscore), which is OK.\n",
    "- cannot have any spaces or special characters (except for \"-\" (hyphen) and \"_\" (underscore))\n",
    "\n",
    "Conventions/good practice:\n",
    "\n",
    "- identifiers (usually) begin with a lowercase letter\n",
    "- followed by letters, numbers, underscores\n",
    "- use a strategy to make reading easier\n",
    "  - `myName`\n",
    "  - `exciting_variable`\n",
    "- long, descriptive > short, vague"
   ]
  },
  {
   "cell_type": "markdown",
   "metadata": {},
   "source": [
    "### String Formatting\n",
    "Create formatted strings, with variable values substituted in."
   ]
  },
  {
   "cell_type": "code",
   "execution_count": null,
   "metadata": {
    "collapsed": false
   },
   "outputs": [],
   "source": [
    "# two ways to do it in Python\n",
    "name = 'Florence'\n",
    "age = 73\n",
    "print('%s is %d years old' % (name, age)) # common amongst many programming languages\n",
    "\n",
    "print('{} is {} years old'.format(name, age)) # perhaps more consistent with stardard Python syntax"
   ]
  },
  {
   "cell_type": "markdown",
   "metadata": {},
   "source": [
    "### Operators & Operands"
   ]
  },
  {
   "cell_type": "markdown",
   "metadata": {},
   "source": [
    "Using Python as a calculator: `+`, `-`, `/`, `*` etc are _operators_, the values/variables that they work on are _operands_."
   ]
  },
  {
   "cell_type": "code",
   "execution_count": null,
   "metadata": {
    "collapsed": true
   },
   "outputs": [],
   "source": [
    "# standard mathematical operations can be performed in Python\n",
    "12 + 13\n",
    "x = 25\n",
    "y = 6439\n",
    "z = y - x\n",
    "print(z)\n",
    "print(16 / 4)\n",
    "print(15 / 4)\n",
    "a = 12\n",
    "b = '12'\n",
    "print(a * 12)\n",
    "print(b * 12)\n",
    "# and some less common ones\n",
    "print(99 % 10) # remainder, useful for performing an operation every x iterations e.g. logging output after every 1000 jobs"
   ]
  },
  {
   "cell_type": "markdown",
   "metadata": {},
   "source": [
    "_Note: check out numpy, scipy, stats modules if you want to do a lot of maths_"
   ]
  },
  {
   "cell_type": "markdown",
   "metadata": {},
   "source": [
    "### Data Structures"
   ]
  },
  {
   "cell_type": "markdown",
   "metadata": {},
   "source": [
    "Programming generally requires building/working with much larger and more complex sets of data than the single values/words/sentences that we have looked at so far. In fact, finding ways to operate effectively (and efficiently) on complex structures in order to extract/produce information, _is_ (data) programming.\n",
    "\n",
    "Python has two most commonly-used structures for storing multiple pieces of data - _lists_ and _dictionaries_. Let's look at these, and a few more, now."
   ]
  },
  {
   "cell_type": "markdown",
   "metadata": {},
   "source": [
    "#### Lists"
   ]
  },
  {
   "cell_type": "code",
   "execution_count": null,
   "metadata": {
    "collapsed": false
   },
   "outputs": [],
   "source": [
    "# sequence of entries, in order and of any type\n",
    "numbers    = [32, 72, 42]\n",
    "mixed_list = [1, 'b', 3.0, 'd']\n",
    "\n",
    "empty_list         = []\n",
    "another_empty_list = list()\n",
    "\n",
    "letters = list('abcdefghi')\n",
    "\n",
    "# accessing list entries\n",
    "print(letters)\n",
    "print(letters[0]) # first element in list\n",
    "print(letters[3]) # fourth element\n",
    "print(letters[-1]) # last element - use negative numbers to count from the end\n",
    "print(letters[2:4]) # get a range of entries - known as slicing. x[y:z] gets yth to z-1th elements in list x\n",
    "\n",
    "# adding/removing entries\n",
    "print(len(letters)) # len(x) returns the length of x\n",
    "letters.append('j')\n",
    "print(letters)\n",
    "print(len(letters))\n",
    "letters.remove('c')\n",
    "print(letters)\n",
    "element = letters.pop(2)\n",
    "print(element)\n",
    "print(letters)\n",
    "letters.insert(6, 'q') # insert 'q' at seventh position\n",
    "letters.extend(['z', 'a', '23']) # you can also join two lists with the '+' operator e.g. list1 + list2\n",
    "print(letters)\n",
    "\n",
    "# changing the order of entries\n",
    "letters.sort() # alphabetical sort 'in place'\n",
    "print(letters)\n"
   ]
  },
  {
   "cell_type": "markdown",
   "metadata": {},
   "source": [
    "#### Objects, Methods, and How To Get Help"
   ]
  },
  {
   "cell_type": "markdown",
   "metadata": {},
   "source": [
    "In Python, everything is an _object_ - some value(s), packaged up with a set of things that can be done with/to it (___methods___), and pieces of information about it (___attributes___). This makes it very easy to perform the most commonly-needed operations for that/those type of value(s). The language has a standard syntax for accessing methods:"
   ]
  },
  {
   "cell_type": "code",
   "execution_count": null,
   "metadata": {
    "collapsed": false
   },
   "outputs": [],
   "source": [
    "string_object = 'I remember, standing by the wall'\n",
    "# methods - object.something()\n",
    "print(string_object.upper())\n",
    "# more...\n",
    "string_object.count('e')\n",
    "string_object.split()"
   ]
  },
  {
   "cell_type": "code",
   "execution_count": null,
   "metadata": {
    "collapsed": false
   },
   "outputs": [],
   "source": [
    "# dir() and help()\n",
    "dir(string_object) # list of all attributes/methods included in object type/module etc\n",
    "help(type(string_object)) # show documentation for object type/module etc\n",
    "string_object.center? # Jupyter-specific help function - gives pop-up usage summary"
   ]
  },
  {
   "cell_type": "code",
   "execution_count": null,
   "metadata": {
    "collapsed": true
   },
   "outputs": [],
   "source": [
    "# sets\n",
    "highly_redundant_list = ['milk', 'eggs', 'bread', \n",
    "                         'eggs', 'eggs', 'milk', \n",
    "                         'milk', 'eggs', 'eggs', \n",
    "                         'bread', 'bread', 'milk', \n",
    "                         'milk', 'bread']\n",
    "set_of_unique_entries = set(highly_redundant_list)"
   ]
  },
  {
   "cell_type": "markdown",
   "metadata": {},
   "source": [
    "### Exercises 2"
   ]
  },
  {
   "cell_type": "code",
   "execution_count": null,
   "metadata": {
    "collapsed": true
   },
   "outputs": [],
   "source": [
    "# add 'Sally' to the list of students' names\n",
    "student_names = ['Sandy', 'Pete', 'Richard', 'Rebecca']\n"
   ]
  },
  {
   "cell_type": "code",
   "execution_count": null,
   "metadata": {
    "collapsed": true
   },
   "outputs": [],
   "source": [
    "# access the fourth entry of the list\n"
   ]
  },
  {
   "cell_type": "code",
   "execution_count": null,
   "metadata": {
    "collapsed": true
   },
   "outputs": [],
   "source": [
    "# join the list with a new list from another class\n",
    "other_student_names = ['Sam', 'Fiona', 'Sarah', 'Richard', 'Sarah', 'Matthew']\n"
   ]
  },
  {
   "cell_type": "markdown",
   "metadata": {},
   "source": [
    "#### Dictionaries"
   ]
  },
  {
   "cell_type": "code",
   "execution_count": null,
   "metadata": {
    "collapsed": true
   },
   "outputs": [],
   "source": [
    "# collection of paired information - keys and values\n",
    "student_marks = {'Alessio': 67, 'Nic': 48, 'Georg': 68}\n",
    "\n",
    "empty_dict         = {}\n",
    "another_empty_dict = dict()\n",
    "\n",
    "# accessing dict entries\n",
    "individual_mark = student_marks['Georg']\n",
    "\n",
    "# adding/changing/deleting entries\n",
    "student_marks['Georg'] = 74\n",
    "student_marks['Simon'] = 75 # add new entries by referring to a new key and using =\n",
    "del student_marks['Nic']"
   ]
  },
  {
   "cell_type": "markdown",
   "metadata": {},
   "source": [
    "#### Mutable?"
   ]
  },
  {
   "cell_type": "markdown",
   "metadata": {},
   "source": [
    "Object types can be divided into two categories - mutable & immutable. _Mutable_ objects can be changed 'in-place' - their value can be updated, added to, re-ordered etc without the need to create a whole new object every time. _Immutable_ types cannot be changed in place - once they have a value, this value cannot be altered. though, of course, it can __always__ be overwritten."
   ]
  },
  {
   "cell_type": "code",
   "execution_count": null,
   "metadata": {
    "collapsed": false
   },
   "outputs": [],
   "source": [
    "# lists are mutable\n",
    "cities = ['Nairobi', 'Vancouver', 'Wellington', 'Beijing']\n",
    "print(cities)\n",
    "cities[2] = 'Heidelberg'\n",
    "print(cities)\n"
   ]
  },
  {
   "cell_type": "code",
   "execution_count": null,
   "metadata": {
    "collapsed": false
   },
   "outputs": [],
   "source": [
    "# strings are immutable\n",
    "beatles = \"I'd like to be under the sea\"\n",
    "print(beatles)\n",
    "print(beatles[6])\n",
    "beatles[6] = 'm'\n",
    "print(beatles)"
   ]
  },
  {
   "cell_type": "markdown",
   "metadata": {},
   "source": [
    "### Looping"
   ]
  },
  {
   "cell_type": "markdown",
   "metadata": {},
   "source": [
    "Time for some real programming. The biggest motivation for researches to learn a programming language is the opportunity to automate repetitive tasks and analyses.\n",
    "\n",
    "For loops define a set of steps that will be carried out for all items in a sequence. The items in the sequence will be taken one-at-a-time, and the loop performed, until there are no more items to process."
   ]
  },
  {
   "cell_type": "code",
   "execution_count": null,
   "metadata": {
    "collapsed": false
   },
   "outputs": [],
   "source": [
    "for season in ['Spring', 'Summer', 'Autumn', 'Winter']:\n",
    "    print(season)"
   ]
  },
  {
   "cell_type": "code",
   "execution_count": null,
   "metadata": {
    "collapsed": false
   },
   "outputs": [],
   "source": [
    "word = 'python'\n",
    "for letter in word:\n",
    "    print(letter.upper())\n",
    "print(\"Finished\")"
   ]
  },
  {
   "cell_type": "code",
   "execution_count": null,
   "metadata": {
    "collapsed": false
   },
   "outputs": [],
   "source": [
    "# iterating through multiple lists simultaneously\n",
    "list_1 = ['Mercury', 'Venus', 'Mars', 'Jupiter', 'Saturn', 'Uranus', 'Neptune']\n",
    "list_2 = ['Monday', 'Tuesday', 'Wednesday', 'Thursday', 'Friday', 'Saturday', 'Sunday']\n",
    "list_3 = ['Doc', 'Dopey', 'Sleepy', 'Sneezy', 'Bashful', 'Grumpy', 'Happy']\n",
    "\n",
    "# range\n",
    "print(list(range(10)))\n",
    "\n",
    "for i in range(len(list_1)):\n",
    "    print(list_1[i], list_2[i], list_3[i])\n"
   ]
  },
  {
   "cell_type": "code",
   "execution_count": null,
   "metadata": {
    "collapsed": false
   },
   "outputs": [],
   "source": [
    "# zip\n",
    "print(list(zip(list_1, list_2, list_3)))\n",
    "\n",
    "for x, y, z in zip(list_1, list_2, list_3):\n",
    "    print(x, y, z)\n"
   ]
  },
  {
   "cell_type": "code",
   "execution_count": null,
   "metadata": {
    "collapsed": true
   },
   "outputs": [],
   "source": [
    "# enumerate\n",
    "print(list(enumerate(list_1)))\n",
    "for index, value in enumerate(list_1):\n",
    "    print(value, list_2[index], list_3[index])\n"
   ]
  },
  {
   "cell_type": "code",
   "execution_count": null,
   "metadata": {
    "collapsed": true
   },
   "outputs": [],
   "source": [
    "# list comprehensions\n",
    "uppercase_days = [x.upper() for x in list_2]\n",
    "print(uppercase_days)"
   ]
  },
  {
   "cell_type": "markdown",
   "metadata": {},
   "source": [
    "### Conditionals - if, elif, else"
   ]
  },
  {
   "cell_type": "markdown",
   "metadata": {},
   "source": [
    "Looping allows you to perform a common set of operations on multiple pieces of data very quickly. But what if you want to treat the pieces differently, depending on some property or other of the objects?\n",
    "\n",
    "This is the other central part of programming: testing for certain circumstances and changing the treatment of pieces of data accordingly. It is known as _flow control_, as you are controlling the flow of data through your script of operations."
   ]
  },
  {
   "cell_type": "markdown",
   "metadata": {},
   "source": [
    "#### if - elif - else"
   ]
  },
  {
   "cell_type": "code",
   "execution_count": null,
   "metadata": {
    "collapsed": false
   },
   "outputs": [],
   "source": [
    "# use if statements to test for a condition\n",
    "x = 24\n",
    "if x < 40:\n",
    "    print('success :)')\n",
    "\n",
    "# use else to dictate what happens when the condition isn't met\n",
    "if x < 20:\n",
    "    print('success :)')\n",
    "else:\n",
    "    print('failure :(')\n",
    "\n",
    "# use elif to add more conditionals\n",
    "if x < 10:\n",
    "    print('small')\n",
    "elif x < 20:\n",
    "    print('medium')\n",
    "else:\n",
    "    print('large')"
   ]
  },
  {
   "cell_type": "code",
   "execution_count": null,
   "metadata": {
    "collapsed": false
   },
   "outputs": [],
   "source": [
    "# list comprehensions with conditionals\n",
    "begin_with_d = [name.lower() for name in list_3 if name.startswith('D')]\n",
    "print(begin_with_d)"
   ]
  }
 ],
 "metadata": {
  "kernelspec": {
   "display_name": "Python 3",
   "language": "python",
   "name": "python3"
  },
  "language_info": {
   "codemirror_mode": {
    "name": "ipython",
    "version": 3
   },
   "file_extension": ".py",
   "mimetype": "text/x-python",
   "name": "python",
   "nbconvert_exporter": "python",
   "pygments_lexer": "ipython3",
   "version": "3.5.1"
  }
 },
 "nbformat": 4,
 "nbformat_minor": 1
}
