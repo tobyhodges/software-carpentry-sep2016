{
 "cells": [
  {
   "cell_type": "markdown",
   "metadata": {},
   "source": [
    "# Python session - 2.1\n",
    "\n",
    "## Flow Control statements\n",
    "\n",
    "Flow control statements allows Python to take a decision and do different things depending on different situations using `if` or `else` statements or `for` loops."
   ]
  },
  {
   "cell_type": "markdown",
   "metadata": {},
   "source": [
    "## if statements"
   ]
  },
  {
   "cell_type": "code",
   "execution_count": null,
   "metadata": {
    "collapsed": true
   },
   "outputs": [],
   "source": [
    "# Check if the temperature is > 25 (degrees)\n",
    "temperature = 26 \n",
    "if ...:\n",
    "    ## do something"
   ]
  },
  {
   "cell_type": "code",
   "execution_count": 1,
   "metadata": {
    "collapsed": false
   },
   "outputs": [
    {
     "name": "stdout",
     "output_type": "stream",
     "text": [
      "Nice weather!\n"
     ]
    }
   ],
   "source": [
    "# Check if the temperature is > 25 (degrees)\n",
    "temperature = 26 \n",
    "if temperature > 25:\n",
    "    print(\"Nice weather!\")"
   ]
  },
  {
   "cell_type": "code",
   "execution_count": 2,
   "metadata": {
    "collapsed": true
   },
   "outputs": [],
   "source": [
    "# Change value of the temperature and run it again\n",
    "temperature = 20 \n",
    "if temperature > 25:\n",
    "    print(\"Nice weather!\")\n",
    "    \n",
    "## There will be nothing as output as the condition doesn't hold true anymore"
   ]
  },
  {
   "cell_type": "markdown",
   "metadata": {},
   "source": [
    "## if/else statements"
   ]
  },
  {
   "cell_type": "markdown",
   "metadata": {
    "collapsed": false
   },
   "source": [
    "temperature = 20\n",
    "if ...:\n",
    "    ## do something\n",
    "else:\n",
    "    ## do something else"
   ]
  },
  {
   "cell_type": "code",
   "execution_count": null,
   "metadata": {
    "collapsed": true
   },
   "outputs": [],
   "source": [
    "temperature = 20\n",
    "if temperature > 25:\n",
    "    print(\"Nice weather!\")\n",
    "else:\n",
    "    print(\"winter is coming!\")"
   ]
  },
  {
   "cell_type": "markdown",
   "metadata": {},
   "source": [
    "### Multiple conditions can be given by introducing `elif` statement"
   ]
  },
  {
   "cell_type": "markdown",
   "metadata": {
    "collapsed": false
   },
   "source": [
    "temperature = 20\n",
    "if ...:\n",
    "    ## do something, or\n",
    "elif ...:\n",
    "    ## do something else, or\n",
    "elif ...:\n",
    "    ## do something else, or\n",
    "else:\n",
    "    ## do something else"
   ]
  },
  {
   "cell_type": "code",
   "execution_count": null,
   "metadata": {
    "collapsed": true
   },
   "outputs": [],
   "source": [
    "temperature = 20\n",
    "if temperature > 25:\n",
    "    print(\"Nice weather!\")\n",
    "elif temperature == 25:\n",
    "    print(\"The temperature is 25 Deg.\")\n",
    "elif temperture > 37:\n",
    "    print(\"It's pretty hot!\")\n",
    "elif temperture < 25:\n",
    "    print(\"Winter is coming!\")\n",
    "else:\n",
    "    print(\"That's an invalid number!\")"
   ]
  },
  {
   "cell_type": "markdown",
   "metadata": {},
   "source": [
    "## Exercise - 1\n",
    "\n",
    "We can interact with the commandline/terminal using `input()`, try it out by giving a value to the temperature on the commandline\n"
   ]
  },
  {
   "cell_type": "code",
   "execution_count": null,
   "metadata": {
    "collapsed": false
   },
   "outputs": [],
   "source": [
    "temperature = input() #it takes input from the user as a string\n",
    "# this might be causing the kernel problem\n",
    "# please restart your kernel using the option on the top of this notebook "
   ]
  },
  {
   "cell_type": "code",
   "execution_count": null,
   "metadata": {
    "collapsed": true
   },
   "outputs": [],
   "source": [
    "# Now use it in a block of code\n",
    "\n",
    "temperature = int(input()) #Since we expect the input as integer\n",
    "if temperature > 25:\n",
    "    print(\"Nice weather!\")\n",
    "elif temperature == 25:\n",
    "    print(\"The temperature is 25 Deg.\")\n",
    "elif temperture > 37:\n",
    "    print(\"It's pretty hot!\")\n",
    "elif temperture < 25:\n",
    "    print(\"Winter is coming!\")\n",
    "else:\n",
    "    print(\"That's an invalid number!\")"
   ]
  },
  {
   "cell_type": "markdown",
   "metadata": {},
   "source": [
    "#### Adding even more conditions (conditions inside conditions)\n",
    "\n",
    "#### Option - 1: \n",
    "not so elegant nested if statements"
   ]
  },
  {
   "cell_type": "code",
   "execution_count": null,
   "metadata": {
    "collapsed": true
   },
   "outputs": [],
   "source": [
    "if ...:\n",
    "    if ...:\n",
    "        ...\n",
    "    elif ...:\n",
    "        ...\n",
    "    else ...:\n",
    "        ...\n",
    "elif ...:\n",
    "    if ...:\n",
    "        ...\n",
    "    elif ...:\n",
    "        ...\n",
    "    else ...:\n",
    "        ...\n",
    "elif ...:\n",
    "    ...\n",
    "else:\n",
    "    ..."
   ]
  },
  {
   "cell_type": "markdown",
   "metadata": {},
   "source": [
    "#### Option - 2: \n",
    "connecting conditions by Boolean (and, or, not)"
   ]
  },
  {
   "cell_type": "code",
   "execution_count": null,
   "metadata": {
    "collapsed": true
   },
   "outputs": [],
   "source": [
    "temperature = 26\n",
    "if temperature >= 25 and temperture < 37:\n",
    "    print(\"Nice weather!\")\n",
    "elif temperture < 25:\n",
    "    print(\"Winter is coming!\")\n",
    "elif temperture > 37:\n",
    "    print(\"It's pretty hot!\")\n",
    "else:\n",
    "    print(\"That's an invalid number!\")\n"
   ]
  },
  {
   "cell_type": "code",
   "execution_count": null,
   "metadata": {
    "collapsed": true
   },
   "outputs": [],
   "source": [
    "# Give temperature a value < 25 and check what happens if you replace 'and' with 'or'\n",
    "# Note: English's *or* and Python's *or* are not always same.\n"
   ]
  },
  {
   "cell_type": "markdown",
   "metadata": {},
   "source": [
    "## Exercise - 2\n"
   ]
  },
  {
   "cell_type": "code",
   "execution_count": 5,
   "metadata": {
    "collapsed": false
   },
   "outputs": [
    {
     "name": "stdout",
     "output_type": "stream",
     "text": [
      "False\n"
     ]
    }
   ],
   "source": [
    "# Check if a variable or data type for example, a list (my_list) exists (not empty)\n",
    "my_list = [] # starting an empty list\n",
    "if my_list:\n",
    "    print(\"True\")\n",
    "else:\n",
    "    print(\"False\")\n",
    "    \n",
    "## Since the list is empty, this code will print the statement \"False\""
   ]
  },
  {
   "cell_type": "code",
   "execution_count": 2,
   "metadata": {
    "collapsed": false
   },
   "outputs": [
    {
     "name": "stdout",
     "output_type": "stream",
     "text": [
      "['a', 'b', 'c', 'd', 'e']\n",
      "True\n",
      "the first_item is a\n",
      "the second_item is b\n",
      "the last_item is e\n"
     ]
    }
   ],
   "source": [
    "my_string = \"a b c d e\"\n",
    "my_list = my_string.split() # creating a list of my_string by splitting it by space\n",
    "print(my_list)\n",
    "if my_list:\n",
    "    print(\"True\")\n",
    "else:\n",
    "    print(\"False\")\n",
    "    \n",
    "## List are a series of items, they are ordered and can be accessed by using 'index'\n",
    "## Index are the position number of the item starting from 0, 1 ....\n",
    "## For example, the first item of this list can be accessed using `my_list[0]`\n",
    "## Similary the second item can be accessed using `my_list[1]`\n",
    "## the list can be counted in a reverse manner as well starting from -1, -2 ...\n",
    "## For example, the last item of this list can be accessed using `my_list[-1]`\n",
    "## Try these out yourself\n",
    "\n",
    "print('the first_item is {}'.format(my_list[0]))\n",
    "print('the second_item is {}'.format(my_list[1]))\n",
    "print('the last_item is {}'.format(my_list[-1]))"
   ]
  },
  {
   "cell_type": "code",
   "execution_count": 8,
   "metadata": {
    "collapsed": false
   },
   "outputs": [
    {
     "name": "stdout",
     "output_type": "stream",
     "text": [
      "True\n"
     ]
    }
   ],
   "source": [
    "my_list = [\"a\", \"b\", \"c\", \"d\", \"e\"] # a list with comma separated items\n",
    "\n",
    "# Check if item 'a' is in my_list\n",
    "if 'a' in my_list:\n",
    "    print(\"True\")\n",
    "else:\n",
    "    print(\"False\")\n",
    "    \n",
    "## Since the list is empty, this code will print the statement \"False\""
   ]
  },
  {
   "cell_type": "code",
   "execution_count": 9,
   "metadata": {
    "collapsed": false
   },
   "outputs": [
    {
     "name": "stdout",
     "output_type": "stream",
     "text": [
      "Python is in my_string\n"
     ]
    }
   ],
   "source": [
    "# Check if an item exists in a string (hint: look for my_item in my_string)...\n",
    "# else print \"{} does not contain {}\".format(my_string, my_item)\n",
    "\n",
    "my_string = \"Whether you're new to programming or an experienced developer, it's easy to learn and use Python.\"\n",
    "my_item = \"Python\"\n",
    "\n",
    "if my_item in my_string:\n",
    "    print(\"{} is in my_string\".format(my_item))"
   ]
  },
  {
   "cell_type": "code",
   "execution_count": 12,
   "metadata": {
    "collapsed": false
   },
   "outputs": [
    {
     "name": "stdout",
     "output_type": "stream",
     "text": [
      "Perl is not easy\n"
     ]
    }
   ],
   "source": [
    "# Check if an item 'does not' exist in a string (hint: look for my_item in my_string)...\n",
    "# else print \"{} contains {}\".format(my_string, my_item)\n",
    "\n",
    "my_string = \"Whether you're new to programming or an experienced developer, it's easy to learn and use Python.\"\n",
    "my_other_item = \"Perl\"\n",
    "\n",
    "if my_other_item in my_string:\n",
    "    print(\"{} is in my_string\".format(my_other_item))\n",
    "else:\n",
    "    print(\"{} is not easy\".format(my_other_item))"
   ]
  },
  {
   "cell_type": "markdown",
   "metadata": {},
   "source": [
    "#### Styling tip: annotate your codes so others can read and understand what your code is doing"
   ]
  },
  {
   "cell_type": "code",
   "execution_count": 13,
   "metadata": {
    "collapsed": false
   },
   "outputs": [
    {
     "data": {
      "text/plain": [
       "Ellipsis"
      ]
     },
     "execution_count": 13,
     "metadata": {},
     "output_type": "execute_result"
    }
   ],
   "source": [
    "\"\"\" \n",
    "This is a Docstring. \n",
    "This script gives its opinion on weather.\n",
    "\"\"\"\n",
    "temperature = 20\n",
    "..."
   ]
  },
  {
   "cell_type": "markdown",
   "metadata": {},
   "source": [
    "## Exercise - 3"
   ]
  },
  {
   "cell_type": "code",
   "execution_count": 5,
   "metadata": {
    "collapsed": false
   },
   "outputs": [
    {
     "name": "stdout",
     "output_type": "stream",
     "text": [
      "['bread', 'potatoes', 'eggs', 'flour', 'rubber duck', 'pizza', 'milk', 'cheese']\n"
     ]
    }
   ],
   "source": [
    "# Given a list of items (shopping) check if a certain item (my_item) exists\n",
    "# else add that item to the list\n",
    "\n",
    "shopping = ['bread', 'potatoes', 'eggs', 'flour', 'rubber duck', 'pizza', 'milk']\n",
    "my_item = \"cheese\"\n",
    "\n",
    "if my_item in shopping:\n",
    "    print(\"{} is in my shopping list\".format(my_item))\n",
    "else:\n",
    "    shopping.append(my_item)  ## appending new items to a list by .append()\n",
    "    print(shopping)"
   ]
  },
  {
   "cell_type": "code",
   "execution_count": 6,
   "metadata": {
    "collapsed": false
   },
   "outputs": [
    {
     "name": "stdout",
     "output_type": "stream",
     "text": [
      "milk is in now added to my shopping list\n",
      "['bread', 'potatoes', 'eggs', 'flour', 'rubber duck', 'pizza', 'milk', 'cheese']\n"
     ]
    }
   ],
   "source": [
    "# if item is not in list\n",
    "shopping = ['bread', 'potatoes', 'eggs', 'flour', 'rubber duck', 'pizza', 'milk']\n",
    "my_item = \"cheese\"\n",
    "\n",
    "if my_item not in shopping:\n",
    "    shopping.append(my_item)\n",
    "    print(\"{} is in now added to my shopping list\".format(items))\n",
    "    print(shopping)"
   ]
  },
  {
   "cell_type": "markdown",
   "metadata": {},
   "source": [
    "## Exercise - 4 \n",
    "\n",
    "\n",
    "Make B.O.B (Basic Output Being) smarter by letting it differentiate 'yes' and 'no' and respond to the user accordingly.\n",
    "For example: if the answer to question2 is 'yes', then let B.O.B. help the user somehow, and if the answer is 'no', say goodbye already!"
   ]
  },
  {
   "cell_type": "markdown",
   "metadata": {
    "collapsed": true
   },
   "source": [
    "hello = \"Hi Human, I am B.O.B. \"\n",
    "question1 = \"What is your name? \"\n",
    "response1 = \"Thats a lovely name! \"\n",
    "input(hello+question1)\n",
    "print(response1)\n",
    "\n",
    "answer_type = \"Please answer in 'yes' or 'no'. \"\n",
    "question2 = \"Can I help you? \"\n",
    "response2 = \"I am a computer, not a human. \"\n",
    "\n",
    "input(question2+answer_type)\n",
    "print(response2)\n",
    "\n",
    "question3 = \"Did you like that information? \"\n",
    "goodbye = \"Great. Goodbye! \"\n",
    "input(question3+answer_type)\n",
    "print(goodbye)"
   ]
  },
  {
   "cell_type": "code",
   "execution_count": null,
   "metadata": {
    "collapsed": true
   },
   "outputs": [],
   "source": [
    "## Solution\n",
    "\n",
    "hello = \"Hi Human, I am B.O.B. \"\n",
    "question1 = \"What is your name? \"\n",
    "response1 = \"Thats a lovely name! \"\n",
    "input(hello+question1)\n",
    "print(response1)\n",
    "\n",
    "answer_type = \"Please answer in 'yes' or 'no'. \"\n",
    "question2 = \"Can I help you? \"\n",
    "response2 = \"I am a computer, not a human. \"\n",
    "\n",
    "goodbye = \"Great. Goodbye! \"  # making it a global variable by writing outside the if/else statement\n",
    "\n",
    "user_input = input(question2+answer_type)\n",
    "if user_input == 'yes':\n",
    "    print(response2)\n",
    "    question3 = \"Did you like that information? \"\n",
    "    input(question3+answer_type)\n",
    "    print(goodbye)\n",
    "else:\n",
    "    print(goodbye)"
   ]
  },
  {
   "cell_type": "markdown",
   "metadata": {},
   "source": [
    "## Exercise - 5\n",
    "\n",
    "Translate this flow chart into Python code.\n",
    "\n",
    "1. Start, get user's name\n",
    "2. check if the name is Rowan (if true, ask for password else print \"Access denied\")\n",
    "3. if the password is correct write 'welcome' else print 'incorrect'\n",
    "\n",
    "![if_flow_chart.png](flow_charts/if_flow_chart.png)\n",
    "\n",
    "Adapted from: http://usingpython.com/python-if-else-statements/"
   ]
  },
  {
   "cell_type": "markdown",
   "metadata": {
    "collapsed": true
   },
   "source": [
    "#1. Start, get user's name\n",
    "\n",
    "#2. check if the name is Rowan (if true, ask for password else print \"Access denied\")\n",
    "\n",
    "#3. if the password is correct write 'welcome' else print 'incorrect'"
   ]
  },
  {
   "cell_type": "code",
   "execution_count": null,
   "metadata": {
    "collapsed": true
   },
   "outputs": [],
   "source": [
    "## Solution\n",
    "\n",
    "#1. Start, get user's name\n",
    "user_name = input(\"Please provide your name: \")\n",
    "\n",
    "#2. check if the name is Rowen (if true, ask for password else print \"Access denied\")\n",
    "if user_name == 'Rowen':\n",
    "    #3. if the password is correct write 'welcome' else print 'incorrect'\n",
    "    #lets assume the password is 123456\n",
    "    password = input(\"Please provide your password: \")\n",
    "    if password == 123456:\n",
    "        print \"Welcome\"\n",
    "    else:\n",
    "        print \"Incorrect\"\n",
    "else:\n",
    "    print \"Access denied\""
   ]
  },
  {
   "cell_type": "markdown",
   "metadata": {},
   "source": [
    "## For loop\n",
    "\n",
    "`for` loops or `for ... in ...` statement is the most powerful way to tackle the repeated tasks."
   ]
  },
  {
   "cell_type": "code",
   "execution_count": 3,
   "metadata": {
    "collapsed": false
   },
   "outputs": [
    {
     "name": "stdout",
     "output_type": "stream",
     "text": [
      "bread\n",
      "potatoes\n",
      "eggs\n",
      "flour\n",
      "rubber duck\n",
      "pizza\n",
      "milk\n"
     ]
    }
   ],
   "source": [
    "## For loop for iterating through a list (or any repeated task) \n",
    "\n",
    "shopping = ['bread', 'potatoes', 'eggs', 'flour', 'rubber duck', 'pizza', 'milk']\n",
    "\n",
    "for items in shopping:\n",
    "    print(items)"
   ]
  },
  {
   "cell_type": "code",
   "execution_count": 4,
   "metadata": {
    "collapsed": false
   },
   "outputs": [
    {
     "name": "stdout",
     "output_type": "stream",
     "text": [
      "milk is in my shopping list\n"
     ]
    }
   ],
   "source": [
    "## For loop for iterating through a list (or any repeated task) \n",
    "\n",
    "shopping = ['bread', 'potatoes', 'eggs', 'flour', 'rubber duck', 'pizza', 'milk']\n",
    "\n",
    "for items in shopping:\n",
    "    if items == 'milk':\n",
    "        print(\"{} is in my shopping list\".format(items))"
   ]
  },
  {
   "cell_type": "markdown",
   "metadata": {},
   "source": [
    "### Example - 1"
   ]
  },
  {
   "cell_type": "markdown",
   "metadata": {
    "collapsed": true
   },
   "source": [
    "#use range to create a list of values\n",
    "\n",
    "for entry in range(1,5):\n",
    "    # do some calculation with each entry and print it"
   ]
  },
  {
   "cell_type": "code",
   "execution_count": 1,
   "metadata": {
    "collapsed": false
   },
   "outputs": [
    {
     "name": "stdout",
     "output_type": "stream",
     "text": [
      "5699\n",
      "11398\n",
      "17097\n",
      "22796\n"
     ]
    }
   ],
   "source": [
    "for entry in range(1,5):\n",
    "    print(entry*5699)"
   ]
  },
  {
   "cell_type": "markdown",
   "metadata": {},
   "source": [
    "### Example - 2"
   ]
  },
  {
   "cell_type": "code",
   "execution_count": 3,
   "metadata": {
    "collapsed": true
   },
   "outputs": [],
   "source": [
    "# dictionaries are a list of key-value pairs\n",
    "# each key acts as an index of a list\n",
    "# they are not ordered as list\n",
    "\n",
    "shopping_dict = {'item-0': 'bread', 'item-1': 'potatoes', \n",
    "                 'item-2': 'eggs', 'item-3': 'flour', \n",
    "                 'item-4': 'rubber duck', 'item-5': 'pizza', \n",
    "                 'item-6': 'milk'}\n",
    "\n",
    "# get all the keys (as list)\n",
    "list_of_keys = shopping_dict.keys()\n",
    "list_of_values = shopping_dict.values()\n",
    "list_of_key_value_pairs = shopping_dict.items()"
   ]
  },
  {
   "cell_type": "code",
   "execution_count": 5,
   "metadata": {
    "collapsed": false
   },
   "outputs": [
    {
     "name": "stdout",
     "output_type": "stream",
     "text": [
      "milk\n",
      "eggs\n",
      "bread\n",
      "pizza\n",
      "rubber duck\n",
      "flour\n",
      "potatoes\n"
     ]
    }
   ],
   "source": [
    "# iterate through each key and print its value\n",
    "\n",
    "## Solution-1\n",
    "for each_key in shopping_dict.keys():\n",
    "    print(shopping_dict[each_key])"
   ]
  },
  {
   "cell_type": "code",
   "execution_count": 7,
   "metadata": {
    "collapsed": false
   },
   "outputs": [
    {
     "name": "stdout",
     "output_type": "stream",
     "text": [
      "milk\n",
      "eggs\n",
      "bread\n",
      "pizza\n",
      "rubber duck\n",
      "flour\n",
      "potatoes\n"
     ]
    }
   ],
   "source": [
    "# iterate through each key and print its value\n",
    "\n",
    "## Solution-2\n",
    "for each_key, each_val in shopping_dict.items():\n",
    "    print(each_val)"
   ]
  },
  {
   "cell_type": "code",
   "execution_count": 8,
   "metadata": {
    "collapsed": false
   },
   "outputs": [
    {
     "name": "stdout",
     "output_type": "stream",
     "text": [
      "milk\n",
      "eggs\n",
      "bread\n",
      "pizza\n",
      "rubber duck\n",
      "flour\n",
      "potatoes\n"
     ]
    }
   ],
   "source": [
    "# iterate through each key and print its value\n",
    "\n",
    "## Solution-3\n",
    "for each_pair in shopping_dict.items():\n",
    "    print(each_pair[1])"
   ]
  },
  {
   "cell_type": "markdown",
   "metadata": {},
   "source": [
    "### Example - 4"
   ]
  },
  {
   "cell_type": "code",
   "execution_count": 9,
   "metadata": {
    "collapsed": false
   },
   "outputs": [
    {
     "name": "stdout",
     "output_type": "stream",
     "text": [
      "['bread', 'potatoes', 'eggs', 'flour', 'rubber duck', 'pizza', 'milk', 'cheese', 'spaghetti', 'sausages']\n"
     ]
    }
   ],
   "source": [
    "shopping = ['bread', 'potatoes', \n",
    "            'eggs', 'flour', \n",
    "            'rubber duck', 'pizza', \n",
    "            'milk']\n",
    "extrashopping = ['cheese', 'flour', \n",
    "                 'eggs', 'spaghetti', \n",
    "                 'sausages', 'bread']\n",
    "# iterate through each item in the list extrashopping \n",
    "# if it is not in the list shopping then add it\n",
    "# print the new list shopping\n",
    "\n",
    "for each_item in extrashopping:\n",
    "    if not each_item in shopping:\n",
    "        shopping.append(each_item)\n",
    "print(shopping)"
   ]
  },
  {
   "cell_type": "markdown",
   "metadata": {},
   "source": [
    "## Example - 5"
   ]
  },
  {
   "cell_type": "code",
   "execution_count": 10,
   "metadata": {
    "collapsed": false
   },
   "outputs": [
    {
     "name": "stdout",
     "output_type": "stream",
     "text": [
      "pizza\n",
      "milk\n",
      "spaghetti\n",
      "potatoes\n",
      "sausages\n",
      "bread\n",
      "rubber duck\n",
      "flour\n",
      "cheese\n",
      "eggs\n"
     ]
    }
   ],
   "source": [
    "shopping = ['bread', 'potatoes', \n",
    "            'eggs', 'flour', \n",
    "            'rubber duck', 'pizza', \n",
    "            'milk']\n",
    "extrashopping = ['cheese', 'flour', \n",
    "                 'eggs', 'spaghetti', \n",
    "                 'sausages', 'bread']\n",
    "\n",
    "# Combining lists\n",
    "all_items = shopping + extrashopping\n",
    "\n",
    "# remove redundancy using set()\n",
    "unique_items = set(all_items)\n",
    "\n",
    "# iterate through unique_items and print each item\n",
    "for each_unique_item in unique_items:\n",
    "    print(each_unique_item)"
   ]
  },
  {
   "cell_type": "markdown",
   "metadata": {},
   "source": [
    "## Exercise - 6"
   ]
  },
  {
   "cell_type": "code",
   "execution_count": null,
   "metadata": {
    "collapsed": true
   },
   "outputs": [],
   "source": [
    "# (i) Change the program above to print out a message when a duplicate item is found. \n",
    "# To do this, you could add another if statement to see if the item is in the list. \n",
    "# Alternatively, you can add an else: clause to the existing if statement. \n",
    "# This will be executed when the condition in the if statement is false.\n"
   ]
  },
  {
   "cell_type": "markdown",
   "metadata": {},
   "source": [
    "(ii) The example illustrated above is not the only solution to adding items to a list, whilst checking for duplicates. From the three choices below, choose the version that would achieve the same goal:\n",
    "\n",
    "a)\n",
    "\n",
    "```\n",
    "shopping = ['bread', 'potatoes', \n",
    "            'eggs', 'flour', \n",
    "            'rubber duck', 'pizza', \n",
    "            'milk']\n",
    "extrashopping = ['cheese', 'flour', \n",
    "                 'eggs', 'spaghetti', \n",
    "                 'sausages', 'bread']\n",
    "for item in extrashopping:\n",
    "    if item not in shopping:   \n",
    "        print(item, \"is already in the list.\")\n",
    "    else: \n",
    "        shopping.append(item)\n",
    "print(shopping)\n",
    "```\n",
    "\n",
    "b)\n",
    "\n",
    "```\n",
    "shopping = ['bread', 'potatoes', \n",
    "            'eggs', 'flour', \n",
    "            'rubber duck', 'pizza', \n",
    "            'milk']\n",
    "extrashopping = ['cheese', 'flour', \n",
    "                 'eggs', 'spaghetti', \n",
    "                 'sausages', 'bread']\n",
    "for item in extrashopping:\n",
    "    if item in shopping:\n",
    "        shopping.append(item)\n",
    "    else: \n",
    "        print(item, \"is already in the list.\")\n",
    "print(shopping)\n",
    "```\n",
    "\n",
    "c)\n",
    "\n",
    "```\n",
    "shopping = ['bread', 'potatoes', \n",
    "            'eggs', 'flour', \n",
    "            'rubber duck', 'pizza', \n",
    "            'milk']\n",
    "extrashopping = ['cheese', 'flour', \n",
    "                 'eggs', 'spaghetti', \n",
    "                 'sausages', 'bread']\n",
    "for item in extrashopping:\n",
    "    if item in shopping:\n",
    "        print(item, \"is already in the list.\")\n",
    "    else: \n",
    "        shopping.append(item)\n",
    "print(shopping)\n",
    "```"
   ]
  },
  {
   "cell_type": "markdown",
   "metadata": {
    "collapsed": true
   },
   "source": [
    "## Exercise - 7 "
   ]
  },
  {
   "cell_type": "code",
   "execution_count": null,
   "metadata": {
    "collapsed": true
   },
   "outputs": [],
   "source": [
    "''' In the example below, we have changed the program so it prints out a formatted message \n",
    "for each of the items in the shopping list along with the amount that needs to be bought \n",
    "of that item. Parts of the program are missing. You need to fill them in '''\n",
    "\n",
    "shopping = ['bread', 'potatoes', 'eggs', 'flour', 'rubber duck', 'pizza', 'milk']\n",
    "amounts = ['1', '10', '12', '1', '2', '5', '1']\n",
    "--- i in range(len(---)):\n",
    "    s = 'I need to buy --- ---'.format(amounts[---], ---[i])\n",
    "    print(---)"
   ]
  }
 ],
 "metadata": {
  "kernelspec": {
   "display_name": "Python 3",
   "language": "python",
   "name": "python3"
  },
  "language_info": {
   "codemirror_mode": {
    "name": "ipython",
    "version": 3
   },
   "file_extension": ".py",
   "mimetype": "text/x-python",
   "name": "python",
   "nbconvert_exporter": "python",
   "pygments_lexer": "ipython3",
   "version": "3.5.0a3"
  }
 },
 "nbformat": 4,
 "nbformat_minor": 0
}
